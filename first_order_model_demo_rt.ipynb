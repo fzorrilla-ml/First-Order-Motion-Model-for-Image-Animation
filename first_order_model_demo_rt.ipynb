{
  "nbformat": 4,
  "nbformat_minor": 0,
  "metadata": {
    "colab": {
      "provenance": [],
      "include_colab_link": true
    },
    "kernelspec": {
      "name": "python3",
      "display_name": "Python 3"
    },
    "accelerator": "GPU"
  },
  "cells": [
    {
      "cell_type": "markdown",
      "metadata": {
        "id": "view-in-github",
        "colab_type": "text"
      },
      "source": [
        "<a href=\"https://colab.research.google.com/github/fzorrilla-ml/First-Order-Motion-Model-for-Image-Animation/blob/main/first_order_model_demo_rt.ipynb\" target=\"_parent\"><img src=\"https://colab.research.google.com/assets/colab-badge.svg\" alt=\"Open In Colab\"/></a>"
      ]
    },
    {
      "cell_type": "markdown",
      "metadata": {
        "id": "cdO_RxQZLahB"
      },
      "source": [
        "# \"First Order Motion Model for Image Animation\" versión simplificada por RT"
      ]
    },
    {
      "cell_type": "markdown",
      "metadata": {
        "id": "GCDNKsEGLtR6"
      },
      "source": [
        "**Clonar el repositorio**"
      ]
    },
    {
      "cell_type": "code",
      "source": [
        "#Actualización Sep 2022:\n",
        "#Se debe ejecutar esta línea primero para evitar un problema que comenzó a ocurrir hace unos meses.\n",
        "#(Si al ejecutar sale un botón de \"Reiniciar runtime\", dar clic en él antes de continuar\n",
        "!pip install pyyaml==5.4.1"
      ],
      "metadata": {
        "id": "zePgtkzzgjlH"
      },
      "execution_count": null,
      "outputs": []
    },
    {
      "cell_type": "code",
      "metadata": {
        "id": "UCMFMJV7K-ag",
        "outputId": "52d71b0d-03d9-4895-de5d-e58eff349a58",
        "colab": {
          "base_uri": "https://localhost:8080/",
          "height": 108
        }
      },
      "source": [
        "!git clone https://github.com/AliaksandrSiarohin/first-order-model"
      ],
      "execution_count": null,
      "outputs": [
        {
          "output_type": "stream",
          "text": [
            "Cloning into 'first-order-model'...\n",
            "remote: Enumerating objects: 236, done.\u001b[K\n",
            "remote: Total 236 (delta 0), reused 0 (delta 0), pack-reused 236\u001b[K\n",
            "Receiving objects: 100% (236/236), 71.46 MiB | 28.52 MiB/s, done.\n",
            "Resolving deltas: 100% (117/117), done.\n"
          ],
          "name": "stdout"
        }
      ]
    },
    {
      "cell_type": "code",
      "metadata": {
        "id": "Cuga2LyGgmqC",
        "outputId": "0cd07cb4-adb1-4dc1-c6f4-6249c1c1a8c0",
        "colab": {
          "base_uri": "https://localhost:8080/",
          "height": 35
        }
      },
      "source": [
        "cd first-order-model"
      ],
      "execution_count": null,
      "outputs": [
        {
          "output_type": "stream",
          "text": [
            "/content/first-order-model\n"
          ],
          "name": "stdout"
        }
      ]
    },
    {
      "cell_type": "code",
      "source": [
        "#Actualizacion 23-ago-2022: Agregar la librería de image-io :)\n",
        "!pip install imageio-ffmpeg"
      ],
      "metadata": {
        "id": "ldl6EPPn1Y_-"
      },
      "execution_count": null,
      "outputs": []
    },
    {
      "cell_type": "markdown",
      "metadata": {
        "id": "IcMX7ueZO0Oa"
      },
      "source": [
        "**Montar el folder de Google Drive en este Colab**"
      ]
    },
    {
      "cell_type": "code",
      "metadata": {
        "id": "tDbMA8R9OuUo",
        "outputId": "6cd17a14-2925-499e-ce10-cb04aecc0b12",
        "colab": {
          "base_uri": "https://localhost:8080/",
          "height": 128
        }
      },
      "source": [
        "# Al ejecutar este bloque, aparecerá un URL. El URL se debe de abrir en el explorador\n",
        "# y otorgar permisos. Ojo: Si te preocupa la seguridad, mejor hazlo en una cuenta de Google\n",
        "# que te inventes solo para esto. Y subes las cosas en Google Drive de esa cuenta nueva.\n",
        "\n",
        "# Cuando apruebes en Google Drive, te dara un codigo, y se debe pegar en el campo de texto\n",
        "# que aparecera, y dar clic en Enter\n",
        "\n",
        "from google.colab import drive\n",
        "drive.mount('/content/gdrive')"
      ],
      "execution_count": null,
      "outputs": [
        {
          "output_type": "stream",
          "text": [
            "Go to this URL in a browser: https://accounts.google.com/o/oauth2/auth?client_id=947318989803-6bn6qk8qdgf4n4g3pfee6491hc0brc4i.apps.googleusercontent.com&redirect_uri=urn%3aietf%3awg%3aoauth%3a2.0%3aoob&response_type=code&scope=email%20https%3a%2f%2fwww.googleapis.com%2fauth%2fdocs.test%20https%3a%2f%2fwww.googleapis.com%2fauth%2fdrive%20https%3a%2f%2fwww.googleapis.com%2fauth%2fdrive.photos.readonly%20https%3a%2f%2fwww.googleapis.com%2fauth%2fpeopleapi.readonly\n",
            "\n",
            "Enter your authorization code:\n",
            "··········\n",
            "Mounted at /content/gdrive\n"
          ],
          "name": "stdout"
        }
      ]
    },
    {
      "cell_type": "markdown",
      "metadata": {
        "id": "VsgVK1EURXkd"
      },
      "source": [
        "**Agregar esta carpeta a tu Google Drive: https://drive.google.com/drive/folders/1kZ1gCnpfU0BnpdU47pLM_TQ6RypDDqgw?usp=sharing**"
      ]
    },
    {
      "cell_type": "code",
      "metadata": {
        "id": "MNoi0sQ0ekOS"
      },
      "source": [
        "# Aqui debes cargar el modelo que quieras.\n",
        "# Por defecto tiene el de caras, pero puedes cambiarlo al de cuerpo, stickers, etc\n",
        "\n",
        "# Una vez cargado se reutiliza para todas las veces que quieras ejecutar lo de abajo\n",
        "from demo import load_checkpoints\n",
        "generator, kp_detector = load_checkpoints(config_path='config/vox-256.yaml', \n",
        "                            checkpoint_path='/content/gdrive/My Drive/first-order-model-checkpoints/vox-cpk.pth.tar')\n",
        "\n",
        "def display(source, driving, generated=None):\n",
        "    fig = plt.figure(figsize=(8 + 4 * (generated is not None), 6))\n",
        "\n",
        "    ims = []\n",
        "    for i in range(len(driving)):\n",
        "        cols = [source]\n",
        "        cols.append(driving[i])\n",
        "        if generated is not None:\n",
        "            cols.append(generated[i])\n",
        "        im = plt.imshow(np.concatenate(cols, axis=1), animated=True)\n",
        "        plt.axis('off')\n",
        "        ims.append([im])\n",
        "\n",
        "    ani = animation.ArtistAnimation(fig, ims, interval=50, repeat_delay=1000)\n",
        "    plt.close()\n",
        "    return ani"
      ],
      "execution_count": null,
      "outputs": []
    },
    {
      "cell_type": "markdown",
      "metadata": {
        "id": "rW-ipQXPOWUo"
      },
      "source": [
        "**Cargar video, imagen destino, y animar :D**\n",
        "\n"
      ]
    },
    {
      "cell_type": "code",
      "metadata": {
        "id": "ZwYSQ3Mhr4R2"
      },
      "source": [
        "import imageio\n",
        "import numpy as np\n",
        "import matplotlib.pyplot as plt\n",
        "import matplotlib.animation as animation\n",
        "from skimage.transform import resize\n",
        "from IPython.display import HTML\n",
        "import warnings\n",
        "warnings.filterwarnings(\"ignore\")\n",
        "\n",
        "# Aqui se pone la imagen que quieres animar\n",
        "source_image = imageio.imread('/content/gdrive/My Drive/deepfakes/putin.png')\n",
        "# Aqui se pone el video fuente, que tiene el movimiento original\n",
        "driving_video = imageio.mimread('/content/gdrive/My Drive/deepfakes/blabla.mp4')\n",
        "\n",
        "\n",
        "# Por defecto la imagen y video se reducen a 256x256.\n",
        "# Ojo! Revisa que ambos (video e imagen) sean cuadrados para que no batalles.\n",
        "\n",
        "source_image = resize(source_image, (256, 256))[..., :3]\n",
        "driving_video = [resize(frame, (256, 256))[..., :3] for frame in driving_video]\n",
        "    \n",
        "#HTML(display(source_image, driving_video).to_html5_video())\n",
        "\n",
        "from demo import make_animation\n",
        "from skimage import img_as_ubyte\n",
        "\n",
        "predictions = make_animation(source_image, driving_video, generator, kp_detector, relative=True)\n",
        "imageio.mimsave('../generated.mp4', [img_as_ubyte(frame) for frame in predictions])\n",
        "\n",
        "# Mostrar abajo el video, es descargable\n",
        "HTML(display(source_image, driving_video, predictions).to_html5_video())"
      ],
      "execution_count": null,
      "outputs": []
    }
  ]
}